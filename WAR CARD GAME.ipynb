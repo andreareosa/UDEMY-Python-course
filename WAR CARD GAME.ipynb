{
 "cells": [
  {
   "cell_type": "code",
   "execution_count": 1,
   "metadata": {},
   "outputs": [],
   "source": [
    "#----------------------------------------- WAR CARD GAME--------------------------------------\n",
    "# 2021 Complete Python Bootcamp From Zero to Hero in Python\n",
    "# MADE BY ANDRÉ AREOSA - 28.02.2021\n",
    "\n",
    "\n",
    "#     SIMULATE A VERSION OF THE GAME WAR\n",
    "#     TWO PLAYERS WILL START OFF WITH HALF THE DECK\n",
    "#     THEN THEY REMOVE A CARD AND THE PLAYER WITH THE HIGHER CARD WINS BOTH CARDS\n",
    "#     IF THERE IS A TIE EACH PLAYER HAS TO DRAW 3 ADDITIONAL CARDS - WAR SITUATION\n",
    "#     A PLAYER AUTOMATICALLY LOSES IF THEY DON'T HAVE AT LEAST 3 CARDS TO PLAY THE WARD"
   ]
  },
  {
   "cell_type": "code",
   "execution_count": 2,
   "metadata": {},
   "outputs": [],
   "source": [
    "import random\n",
    "from random import shuffle"
   ]
  },
  {
   "cell_type": "code",
   "execution_count": 3,
   "metadata": {},
   "outputs": [],
   "source": [
    "suits = ('Hearts', 'Diamonds', 'Spades', 'Clubs')\n",
    "\n",
    "ranks = ('Two', 'Three', 'Four', 'Five', 'Six', 'Seven', 'Eight', 'Nine', 'Ten', 'Jack', 'Queen', 'King', 'Ace')\n",
    "\n",
    "\n",
    "# We need to compare the card ranks using integer values\n",
    "values = {'Two':2, 'Three':3, 'Four':4, 'Five':5, 'Six':6, 'Seven':7, 'Eight':8, \n",
    "         'Nine':9, 'Ten':10, 'Jack':11, 'Queen':12, 'King':13, 'Ace':14}\n",
    "\n",
    "\n",
    "# CARD CLASS (SUIT, RANK, VALUE)\n",
    "\n",
    "class Card:\n",
    "    \n",
    "    def __init__(self, suit, rank):\n",
    "        \n",
    "        self.suit = suit\n",
    "        self.rank = rank\n",
    "        \n",
    "        self.value = values[self.rank] \n",
    "    \n",
    "    def __str__(self):\n",
    "        \n",
    "        return self.rank + ' of ' + self.suit        "
   ]
  },
  {
   "cell_type": "code",
   "execution_count": 4,
   "metadata": {},
   "outputs": [],
   "source": [
    "mycard = Card('Hearts','Nine')"
   ]
  },
  {
   "cell_type": "code",
   "execution_count": 5,
   "metadata": {},
   "outputs": [
    {
     "name": "stdout",
     "output_type": "stream",
     "text": [
      "Nine of Hearts\n"
     ]
    }
   ],
   "source": [
    "print(mycard)"
   ]
  },
  {
   "cell_type": "code",
   "execution_count": 6,
   "metadata": {},
   "outputs": [
    {
     "data": {
      "text/plain": [
       "9"
      ]
     },
     "execution_count": 6,
     "metadata": {},
     "output_type": "execute_result"
    }
   ],
   "source": [
    "mycard.value"
   ]
  },
  {
   "cell_type": "code",
   "execution_count": 7,
   "metadata": {},
   "outputs": [
    {
     "data": {
      "text/plain": [
       "'Nine'"
      ]
     },
     "execution_count": 7,
     "metadata": {},
     "output_type": "execute_result"
    }
   ],
   "source": [
    "mycard.rank"
   ]
  },
  {
   "cell_type": "code",
   "execution_count": 8,
   "metadata": {},
   "outputs": [],
   "source": [
    "# DECK CLASS \n",
    "\n",
    "# 52 card objects\n",
    "# Shuffle cards\n",
    "# Deal cards from the deck\n",
    "\n",
    "\n",
    "class Deck:\n",
    "     \n",
    "    def __init__(self):\n",
    "        \n",
    "        self.all_cards = []\n",
    "        \n",
    "        for suit in suits:\n",
    "            for rank in ranks:\n",
    "                # We use the class card to create each card\n",
    "                self.all_cards.append(Card(suit,rank))\n",
    "                \n",
    "\n",
    "    def shuffle(self):\n",
    "        \n",
    "        shuffle(self.all_cards)\n",
    "        # Shuffle function acts in plance. We don't need to return a variable \n",
    "        \n",
    "    def deal_one(self):\n",
    "        \n",
    "        return self.all_cards.pop()"
   ]
  },
  {
   "cell_type": "code",
   "execution_count": 9,
   "metadata": {},
   "outputs": [],
   "source": [
    "newdeck = Deck()"
   ]
  },
  {
   "cell_type": "code",
   "execution_count": 10,
   "metadata": {},
   "outputs": [
    {
     "name": "stdout",
     "output_type": "stream",
     "text": [
      "Two of Hearts\n"
     ]
    }
   ],
   "source": [
    "print(newdeck.all_cards[0])"
   ]
  },
  {
   "cell_type": "code",
   "execution_count": 11,
   "metadata": {},
   "outputs": [
    {
     "data": {
      "text/plain": [
       "52"
      ]
     },
     "execution_count": 11,
     "metadata": {},
     "output_type": "execute_result"
    }
   ],
   "source": [
    "len(newdeck.all_cards)"
   ]
  },
  {
   "cell_type": "code",
   "execution_count": 12,
   "metadata": {},
   "outputs": [],
   "source": [
    "# PLAYER CLASS\n",
    "\n",
    "class Player:\n",
    "    \n",
    "    def __init__(self, name):\n",
    "        \n",
    "        self.name = name\n",
    "        # A new player has no cards\n",
    "        self.all_cards = []\n",
    "    \n",
    "    \n",
    "    def remove_one(self):\n",
    "        return self.all_cards.pop(0)\n",
    "    \n",
    "    \n",
    "    def add_cards(self,new_cards):\n",
    "        if type(new_cards) == type([]):\n",
    "            self.all_cards.extend(new_cards)\n",
    "        else:\n",
    "            self.all_cards.append(new_cards)\n",
    "    \n",
    "    \n",
    "    def __str__(self):\n",
    "        return f'Player {self.name} has {len(self.all_cards)} cards'"
   ]
  },
  {
   "cell_type": "code",
   "execution_count": 13,
   "metadata": {},
   "outputs": [],
   "source": [
    "newplayer = Player('Andre')"
   ]
  },
  {
   "cell_type": "code",
   "execution_count": 14,
   "metadata": {},
   "outputs": [
    {
     "data": {
      "text/plain": [
       "[]"
      ]
     },
     "execution_count": 14,
     "metadata": {},
     "output_type": "execute_result"
    }
   ],
   "source": [
    "newplayer.all_cards"
   ]
  },
  {
   "cell_type": "code",
   "execution_count": 15,
   "metadata": {},
   "outputs": [
    {
     "name": "stdout",
     "output_type": "stream",
     "text": [
      "Player Andre has 0 cards\n"
     ]
    }
   ],
   "source": [
    "print(newplayer)"
   ]
  },
  {
   "cell_type": "code",
   "execution_count": 16,
   "metadata": {},
   "outputs": [],
   "source": [
    "#ADD 1 CARD\n",
    "newplayer.add_cards(mycard)"
   ]
  },
  {
   "cell_type": "code",
   "execution_count": 17,
   "metadata": {},
   "outputs": [
    {
     "name": "stdout",
     "output_type": "stream",
     "text": [
      "Player Andre has 1 cards\n"
     ]
    }
   ],
   "source": [
    "print(newplayer)"
   ]
  },
  {
   "cell_type": "code",
   "execution_count": 18,
   "metadata": {},
   "outputs": [],
   "source": [
    "#ADD 3 CARDS\n",
    "newplayer.add_cards([mycard,mycard,mycard])"
   ]
  },
  {
   "cell_type": "code",
   "execution_count": 19,
   "metadata": {},
   "outputs": [
    {
     "name": "stdout",
     "output_type": "stream",
     "text": [
      "Player Andre has 4 cards\n"
     ]
    }
   ],
   "source": [
    "print(newplayer)"
   ]
  },
  {
   "cell_type": "code",
   "execution_count": 20,
   "metadata": {},
   "outputs": [
    {
     "data": {
      "text/plain": [
       "<__main__.Card at 0x1ceb7ddf6a0>"
      ]
     },
     "execution_count": 20,
     "metadata": {},
     "output_type": "execute_result"
    }
   ],
   "source": [
    "#REMOVE ONE CARD\n",
    "newplayer.remove_one()"
   ]
  },
  {
   "cell_type": "code",
   "execution_count": 21,
   "metadata": {},
   "outputs": [
    {
     "name": "stdout",
     "output_type": "stream",
     "text": [
      "Player Andre has 3 cards\n"
     ]
    }
   ],
   "source": [
    "print(newplayer)"
   ]
  },
  {
   "cell_type": "code",
   "execution_count": 22,
   "metadata": {},
   "outputs": [],
   "source": [
    "# GAME SET UP\n",
    "\n",
    "player1 = Player('Player 1')\n",
    "player2 = Player('Player 2')\n",
    "\n",
    "new_deck = Deck()\n",
    "new_deck.shuffle()\n",
    "\n",
    "for x in range(26):\n",
    "    player1.add_cards(new_deck.deal_one())\n",
    "    player2.add_cards(new_deck.deal_one())\n",
    "    \n",
    "game_on = True"
   ]
  },
  {
   "cell_type": "code",
   "execution_count": 23,
   "metadata": {
    "scrolled": false
   },
   "outputs": [
    {
     "name": "stdout",
     "output_type": "stream",
     "text": [
      "WAR CARD GAME - SIMULATED COMPUTER VERSION\n",
      "Round 1\n",
      "Round 2\n",
      "WAR!\n",
      "Round 3\n",
      "WAR!\n",
      "Round 4\n",
      "WAR!\n",
      "Round 5\n",
      "Round 6\n",
      "Round 7\n",
      "Round 8\n",
      "WAR!\n",
      "WAR!\n",
      "WAR!\n",
      "WAR!\n",
      "Round 9\n",
      "Round 10\n",
      "Round 11\n",
      "WAR!\n",
      "Round 12\n",
      "WAR!\n",
      "Player 2 is out of cards! Game over!\n",
      "Player 1 wins!\n",
      "WAR GAME ENDED IN 12 ROUNDS! RE-RUN THE SCRIPT TO SIMULATE AGAIN\n"
     ]
    }
   ],
   "source": [
    "# PLAYING THE GAME\n",
    "\n",
    "print('WAR CARD GAME - SIMULATED COMPUTER VERSION')\n",
    "\n",
    "\n",
    "round_num = 0\n",
    "\n",
    "while game_on:\n",
    "    round_num = round_num + 1\n",
    "    print(f'Round {round_num}')\n",
    "    \n",
    "    # WIN CHECK\n",
    "    \n",
    "    if len(player1.all_cards) == 0:\n",
    "        print('Player 1 is out of cards! Game over!')\n",
    "        print('Player 2 wins!')\n",
    "        game_on = False\n",
    "        break\n",
    "    \n",
    "    elif len(player2.all_cards) == 0:\n",
    "        print('Player 2 is out of cards!')\n",
    "        print('Player 1 wins!')\n",
    "        game_on = False\n",
    "        break\n",
    "    \n",
    "    # OTHERWISE THE GAME IS STILL ON\n",
    "    # START A NEW ROUND\n",
    "    # CREATE A LIST FOR THE CARDS \"ON THE TABLE\" - REMOVE 1 CARD FROM THE PLAYER CARDS TO THE TABLE - \"CARD ON THE TABLE\"\n",
    "    \n",
    "    player1_cards = []\n",
    "    player1_cards.append(player1.remove_one())\n",
    "    \n",
    "    \n",
    "    player2_cards = []\n",
    "    player2_cards.append(player1.remove_one())\n",
    "    \n",
    "    \n",
    "    # CHECK PLAYERS CARDS \"ON THE TABLE\" AGAINS EATCH OTHER\n",
    "    # 3 POSSIBLE SITUATIONS:\n",
    "    # player 1 card > player 2 card\n",
    "    # player 1 card < player 2 card\n",
    "    # player 1 card = = player 2 card (WAR SITUATION)\n",
    "    \n",
    "    card_check = True\n",
    "    \n",
    "    while card_check:\n",
    "        \n",
    "        if player1_cards[-1].value > player2_cards[-1].value:\n",
    "            # We have to use -1 because if we get to war instead of 1 card we will have a stack of cards\n",
    "            # And by choosing -1 we're not constantly the very first card that was played\n",
    "                       \n",
    "            # PLAYER 1 GETS THE CARDS \"ON THE TABLE\"\n",
    "            player1.add_cards(player1_cards)\n",
    "            player1.add_cards(player2_cards)\n",
    "            \n",
    "            # NO LONGER CHECKING CARDS. TIME FOR A NEW ROUND\n",
    "            card_check = False\n",
    "            \n",
    "        elif player2_cards[-1].value < player2_cards[-1].value:\n",
    "            \n",
    "            player2.add_cards(player1_cards)\n",
    "            player2.add_cards(player2_cards)\n",
    "            \n",
    "            card_check = False\n",
    "            \n",
    "        else:\n",
    "            print('WAR!')\n",
    "            \n",
    "            # CONTROL CHECK: A player automatically loses if they don't have at least 3 cards to play the war\n",
    "            \n",
    "            if len(player1.all_cards) < 3:\n",
    "                print('Player 1 is out of cards! Game over!')\n",
    "                print('Player 2 wins!')\n",
    "                game_on = False\n",
    "                break\n",
    "                \n",
    "            elif len(player2.all_cards) < 3:\n",
    "                print('Player 2 is out of cards! Game over!')\n",
    "                print('Player 1 wins!')\n",
    "                game_on = False\n",
    "                break\n",
    "                \n",
    "            \n",
    "            else:\n",
    "                # WAR SITUATION IS ONLY HAPPENING IN THIS ELSE STATEMENT\n",
    "                # EACH PLAYER HAS TO ADD 3 MORE CARDS \"IN THE TABLE\" TO PLAY THE WAR\n",
    "                \n",
    "                for x in range(3):\n",
    "                    player1_cards.append(player1.remove_one())\n",
    "                    player2_cards.append(player2.remove_one())       \n",
    "                \n",
    "print(f'WAR GAME ENDED IN {round_num} ROUNDS! RE-RUN THE SCRIPT TO SIMULATE AGAIN')"
   ]
  },
  {
   "cell_type": "code",
   "execution_count": 24,
   "metadata": {},
   "outputs": [
    {
     "name": "stdout",
     "output_type": "stream",
     "text": [
      "Nine of Hearts\n"
     ]
    }
   ],
   "source": [
    "print(mycard)"
   ]
  },
  {
   "cell_type": "code",
   "execution_count": null,
   "metadata": {},
   "outputs": [],
   "source": []
  }
 ],
 "metadata": {
  "kernelspec": {
   "display_name": "Python 3",
   "language": "python",
   "name": "python3"
  },
  "language_info": {
   "codemirror_mode": {
    "name": "ipython",
    "version": 3
   },
   "file_extension": ".py",
   "mimetype": "text/x-python",
   "name": "python",
   "nbconvert_exporter": "python",
   "pygments_lexer": "ipython3",
   "version": "3.8.5"
  }
 },
 "nbformat": 4,
 "nbformat_minor": 4
}
